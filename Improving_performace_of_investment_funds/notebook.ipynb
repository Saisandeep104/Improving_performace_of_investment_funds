{
 "cells": [
  {
   "cell_type": "markdown",
   "id": "5565492a",
   "metadata": {},
   "source": [
    "# Should your fund invest in Bitcoin?\n",
    "\n",
    "## 📖 Background\n",
    "You work as an analyst at an investment fund in New York. Your CFO wants to explore if it is a good idea to invest some of the fund's assets in Bitcoin. You have to prepare a report on this asset and how it compares to the stock market in general."
   ]
  },
  {
   "cell_type": "markdown",
   "id": "10dcc269-3659-4851-99cd-f1ffb7f818aa",
   "metadata": {
    "tags": []
   },
   "source": [
    "## 💾 The data\n",
    "You have access to three files:\n",
    "\n",
    "#### Bitcoin daily data in US dollars\n",
    "- \"date\" - date from September 17, 2014 to November 17, 2021\n",
    "- \"open\" - the price at the beginning of the trading day\n",
    "- \"high\" - the highest price reached that day\n",
    "- \"low\" - the lowest price reached that day\n",
    "- \"close\" - the price at the closing of the trading day\n",
    "- \"volume\" - how many Bitcoin were traded that day\n",
    "\n",
    "#### S&P 500 daily data\n",
    "- \"date\" - date from September 17, 2014 to November 17, 2021\n",
    "- \"open\" - the index level at the beginning of the trading day\n",
    "- \"high\" - the highest level reached that day\n",
    "- \"low\" - the lowest level reached that day\n",
    "- \"close\" - the level at the closing of the trading day\n",
    "- \"volume\" - how many shares in the companies that make up the index were traded that day\n",
    "\n",
    "#### inflation and gold as monthly data\n",
    "- \"date\" - date from September, 2014 to November, 2021\n",
    "- \"gold_usd\" - price in usd of gold for that month\n",
    "- \"cpi_us\" - the inflation index for the US for that month (cpi = consumer price index)\n",
    "\n",
    "_CPI data from the [U.S. Bureau of Labor Statistics](https://www.bls.gov/cpi/). Publicly available information_."
   ]
  },
  {
   "cell_type": "code",
   "execution_count": 1,
   "id": "40251159-3eea-47f8-bfb4-09e38d5ced65",
   "metadata": {},
   "outputs": [
    {
     "data": {
      "text/html": [
       "<div>\n",
       "<style scoped>\n",
       "    .dataframe tbody tr th:only-of-type {\n",
       "        vertical-align: middle;\n",
       "    }\n",
       "\n",
       "    .dataframe tbody tr th {\n",
       "        vertical-align: top;\n",
       "    }\n",
       "\n",
       "    .dataframe thead th {\n",
       "        text-align: right;\n",
       "    }\n",
       "</style>\n",
       "<table border=\"1\" class=\"dataframe\">\n",
       "  <thead>\n",
       "    <tr style=\"text-align: right;\">\n",
       "      <th></th>\n",
       "      <th>date</th>\n",
       "      <th>open</th>\n",
       "      <th>high</th>\n",
       "      <th>low</th>\n",
       "      <th>close</th>\n",
       "      <th>volume</th>\n",
       "    </tr>\n",
       "  </thead>\n",
       "  <tbody>\n",
       "    <tr>\n",
       "      <th>0</th>\n",
       "      <td>2014-09-17</td>\n",
       "      <td>465.864014</td>\n",
       "      <td>468.174011</td>\n",
       "      <td>452.421997</td>\n",
       "      <td>457.334015</td>\n",
       "      <td>21056800.0</td>\n",
       "    </tr>\n",
       "    <tr>\n",
       "      <th>1</th>\n",
       "      <td>2014-09-18</td>\n",
       "      <td>456.859985</td>\n",
       "      <td>456.859985</td>\n",
       "      <td>413.104004</td>\n",
       "      <td>424.440002</td>\n",
       "      <td>34483200.0</td>\n",
       "    </tr>\n",
       "    <tr>\n",
       "      <th>2</th>\n",
       "      <td>2014-09-19</td>\n",
       "      <td>424.102997</td>\n",
       "      <td>427.834991</td>\n",
       "      <td>384.532013</td>\n",
       "      <td>394.795990</td>\n",
       "      <td>37919700.0</td>\n",
       "    </tr>\n",
       "    <tr>\n",
       "      <th>3</th>\n",
       "      <td>2014-09-20</td>\n",
       "      <td>394.673004</td>\n",
       "      <td>423.295990</td>\n",
       "      <td>389.882996</td>\n",
       "      <td>408.903992</td>\n",
       "      <td>36863600.0</td>\n",
       "    </tr>\n",
       "    <tr>\n",
       "      <th>4</th>\n",
       "      <td>2014-09-21</td>\n",
       "      <td>408.084991</td>\n",
       "      <td>412.425995</td>\n",
       "      <td>393.181000</td>\n",
       "      <td>398.821014</td>\n",
       "      <td>26580100.0</td>\n",
       "    </tr>\n",
       "  </tbody>\n",
       "</table>\n",
       "</div>"
      ],
      "text/plain": [
       "        date        open        high         low       close      volume\n",
       "0 2014-09-17  465.864014  468.174011  452.421997  457.334015  21056800.0\n",
       "1 2014-09-18  456.859985  456.859985  413.104004  424.440002  34483200.0\n",
       "2 2014-09-19  424.102997  427.834991  384.532013  394.795990  37919700.0\n",
       "3 2014-09-20  394.673004  423.295990  389.882996  408.903992  36863600.0\n",
       "4 2014-09-21  408.084991  412.425995  393.181000  398.821014  26580100.0"
      ]
     },
     "execution_count": 1,
     "metadata": {},
     "output_type": "execute_result"
    }
   ],
   "source": [
    "import pandas as pd\n",
    "bitcoin = pd.read_csv('./data/bitcoin-usd.csv', parse_dates=['date'])\n",
    "bitcoin.head()"
   ]
  },
  {
   "cell_type": "code",
   "execution_count": 2,
   "id": "a03cfa33-8c50-4e87-9669-1879fc88a8a7",
   "metadata": {},
   "outputs": [
    {
     "data": {
      "text/html": [
       "<div>\n",
       "<style scoped>\n",
       "    .dataframe tbody tr th:only-of-type {\n",
       "        vertical-align: middle;\n",
       "    }\n",
       "\n",
       "    .dataframe tbody tr th {\n",
       "        vertical-align: top;\n",
       "    }\n",
       "\n",
       "    .dataframe thead th {\n",
       "        text-align: right;\n",
       "    }\n",
       "</style>\n",
       "<table border=\"1\" class=\"dataframe\">\n",
       "  <thead>\n",
       "    <tr style=\"text-align: right;\">\n",
       "      <th></th>\n",
       "      <th>date</th>\n",
       "      <th>open</th>\n",
       "      <th>high</th>\n",
       "      <th>low</th>\n",
       "      <th>close</th>\n",
       "      <th>volume</th>\n",
       "    </tr>\n",
       "  </thead>\n",
       "  <tbody>\n",
       "    <tr>\n",
       "      <th>0</th>\n",
       "      <td>2014-09-17</td>\n",
       "      <td>1999.300049</td>\n",
       "      <td>2010.739990</td>\n",
       "      <td>1993.290039</td>\n",
       "      <td>2001.569946</td>\n",
       "      <td>3209420000</td>\n",
       "    </tr>\n",
       "    <tr>\n",
       "      <th>1</th>\n",
       "      <td>2014-09-18</td>\n",
       "      <td>2003.069946</td>\n",
       "      <td>2012.339966</td>\n",
       "      <td>2003.069946</td>\n",
       "      <td>2011.359985</td>\n",
       "      <td>3235340000</td>\n",
       "    </tr>\n",
       "    <tr>\n",
       "      <th>2</th>\n",
       "      <td>2014-09-19</td>\n",
       "      <td>2012.739990</td>\n",
       "      <td>2019.260010</td>\n",
       "      <td>2006.589966</td>\n",
       "      <td>2010.400024</td>\n",
       "      <td>4880220000</td>\n",
       "    </tr>\n",
       "    <tr>\n",
       "      <th>3</th>\n",
       "      <td>2014-09-22</td>\n",
       "      <td>2009.079956</td>\n",
       "      <td>2009.079956</td>\n",
       "      <td>1991.010010</td>\n",
       "      <td>1994.290039</td>\n",
       "      <td>3349670000</td>\n",
       "    </tr>\n",
       "    <tr>\n",
       "      <th>4</th>\n",
       "      <td>2014-09-23</td>\n",
       "      <td>1992.780029</td>\n",
       "      <td>1995.410034</td>\n",
       "      <td>1982.770020</td>\n",
       "      <td>1982.770020</td>\n",
       "      <td>3279350000</td>\n",
       "    </tr>\n",
       "  </tbody>\n",
       "</table>\n",
       "</div>"
      ],
      "text/plain": [
       "        date         open         high          low        close      volume\n",
       "0 2014-09-17  1999.300049  2010.739990  1993.290039  2001.569946  3209420000\n",
       "1 2014-09-18  2003.069946  2012.339966  2003.069946  2011.359985  3235340000\n",
       "2 2014-09-19  2012.739990  2019.260010  2006.589966  2010.400024  4880220000\n",
       "3 2014-09-22  2009.079956  2009.079956  1991.010010  1994.290039  3349670000\n",
       "4 2014-09-23  1992.780029  1995.410034  1982.770020  1982.770020  3279350000"
      ]
     },
     "execution_count": 2,
     "metadata": {},
     "output_type": "execute_result"
    }
   ],
   "source": [
    "sp500 = pd.read_csv('./data/sp500.csv', parse_dates=['date'])\n",
    "sp500.head()"
   ]
  },
  {
   "cell_type": "code",
   "execution_count": 3,
   "id": "57c4f3ed-792a-4ff9-9d17-2f1b98a18127",
   "metadata": {},
   "outputs": [
    {
     "data": {
      "text/html": [
       "<div>\n",
       "<style scoped>\n",
       "    .dataframe tbody tr th:only-of-type {\n",
       "        vertical-align: middle;\n",
       "    }\n",
       "\n",
       "    .dataframe tbody tr th {\n",
       "        vertical-align: top;\n",
       "    }\n",
       "\n",
       "    .dataframe thead th {\n",
       "        text-align: right;\n",
       "    }\n",
       "</style>\n",
       "<table border=\"1\" class=\"dataframe\">\n",
       "  <thead>\n",
       "    <tr style=\"text-align: right;\">\n",
       "      <th></th>\n",
       "      <th>date</th>\n",
       "      <th>gold_usd</th>\n",
       "      <th>cpi_us</th>\n",
       "    </tr>\n",
       "  </thead>\n",
       "  <tbody>\n",
       "    <tr>\n",
       "      <th>0</th>\n",
       "      <td>2014-09-01</td>\n",
       "      <td>1241.330</td>\n",
       "      <td>237.852</td>\n",
       "    </tr>\n",
       "    <tr>\n",
       "      <th>1</th>\n",
       "      <td>2014-10-01</td>\n",
       "      <td>1223.565</td>\n",
       "      <td>238.031</td>\n",
       "    </tr>\n",
       "    <tr>\n",
       "      <th>2</th>\n",
       "      <td>2014-11-01</td>\n",
       "      <td>1176.413</td>\n",
       "      <td>237.433</td>\n",
       "    </tr>\n",
       "    <tr>\n",
       "      <th>3</th>\n",
       "      <td>2014-12-01</td>\n",
       "      <td>1200.440</td>\n",
       "      <td>236.151</td>\n",
       "    </tr>\n",
       "    <tr>\n",
       "      <th>4</th>\n",
       "      <td>2015-01-01</td>\n",
       "      <td>1249.333</td>\n",
       "      <td>234.812</td>\n",
       "    </tr>\n",
       "  </tbody>\n",
       "</table>\n",
       "</div>"
      ],
      "text/plain": [
       "        date  gold_usd   cpi_us\n",
       "0 2014-09-01  1241.330  237.852\n",
       "1 2014-10-01  1223.565  238.031\n",
       "2 2014-11-01  1176.413  237.433\n",
       "3 2014-12-01  1200.440  236.151\n",
       "4 2015-01-01  1249.333  234.812"
      ]
     },
     "execution_count": 3,
     "metadata": {},
     "output_type": "execute_result"
    }
   ],
   "source": [
    "monthly_data = pd.read_csv('./data/monthly_data.csv', parse_dates=['date'])\n",
    "monthly_data.head()"
   ]
  },
  {
   "cell_type": "markdown",
   "id": "54e0ae0c-ff96-443e-9ff3-718f1ab846e5",
   "metadata": {},
   "source": [
    "## 💪 Competition challenge\n",
    "Create a report that covers the following:\n",
    "\n",
    "1. How does the performance of Bitcoin compare to the S&P 500 and the price of gold?\n",
    "2. Analyze Bitcoin's returns and volatility profile. Do you believe it could help improve the performance of a portfolio? Do you believe Bitcoin could be used as a hedge versus inflation?\n",
    "3. The CFO is looking to lower volatility in the fund. Explore building a portfolio using some or all of these assets. Make a recommendation that minimizes overall risk."
   ]
  },
  {
   "cell_type": "markdown",
   "id": "efda8e32-5c7e-48cc-8bd6-83ad3ba72f6e",
   "metadata": {},
   "source": [
    "## 🧑‍⚖️ Judging criteria\n",
    "\n",
    "| CATEGORY | WEIGHTING | DETAILS                                                              |\n",
    "|:---------|:----------|:---------------------------------------------------------------------|\n",
    "| **Recommendations** | 35%       | <ul><li>Clarity of recommendations - how clear and well presented the recommendation is.</li><li>Quality of recommendations - are appropriate analytical techniques used & are the conclusions valid?</li><li>Number of relevant insights found for the target audience.</li></ul>       |\n",
    "| **Storytelling**  | 30%       | <ul><li>How well the data and insights are connected to the recommendation.</li><li>How the narrative and whole report connects together.</li><li>Balancing making the report in depth enough but also concise.</li></ul> |\n",
    "| **Visualizations** | 25% | <ul><li>Appropriateness of visualization used.</li><li>Clarity of insight from visualization.</li></ul> |\n",
    "| **Votes** | 10% | <ul><li>Up voting - most upvoted entries get the most points.</li></ul> |"
   ]
  },
  {
   "cell_type": "markdown",
   "id": "7fa68a10-14d8-4db9-a473-9efdab8f2fbd",
   "metadata": {},
   "source": [
    "## ✅ Checklist before publishing into the competition\n",
    "- Rename your workspace to make it descriptive of your work. N.B. you should leave the notebook name as notebook.ipynb.\n",
    "- Remove redundant cells like the judging criteria so the workbook is focused on your story.\n",
    "- Make sure the workbook reads well and explains how you found your insights.\n",
    "- Check that all the cells run without error."
   ]
  },
  {
   "cell_type": "markdown",
   "id": "3bef7acb-5b00-4282-8c3e-1aa34bf4b7df",
   "metadata": {},
   "source": [
    "## ⌛️ Time is ticking. Good luck!"
   ]
  },
  {
   "cell_type": "code",
   "execution_count": 2,
   "id": "61d09a65-7a7f-43de-951b-decb042f5bd0",
   "metadata": {},
   "outputs": [
    {
     "name": "stdout",
     "output_type": "stream",
     "text": [
      "Hello World\n"
     ]
    }
   ],
   "source": [
    "print(\"Hello World\")"
   ]
  },
  {
   "cell_type": "markdown",
   "id": "0ea3846e-01de-4aed-84bc-056831b87dc5",
   "metadata": {},
   "source": [
    "# Introduction"
   ]
  },
  {
   "cell_type": "markdown",
   "id": "d81f8e17-eba7-43f6-8844-c4d649e47078",
   "metadata": {},
   "source": [
    "Being an investment company we tradionally tends to invest in the stock opitions which are totally depend on markets behaviour and ablosutely independant of anyone perdictions.\n",
    "\n",
    "Tratdionally it's been always adived to difersify your investment in varired portfolio so that when something unexpected happens one should be financially safe and also it goes without saying that one's return should be enoght to beat the market\n",
    "\n",
    "Here is the study of different intvestment options to chose from\n",
    "- Tradtional Stocks S&P 50 performance\n",
    "- BITCOIN as a crypto\n",
    "- Gold\n",
    "\n",
    "Addtionally we are going to look at how inflation data"
   ]
  },
  {
   "cell_type": "markdown",
   "id": "9cf22796-71fd-4ebd-8ee2-ec9361132561",
   "metadata": {},
   "source": [
    "# importing the required libraries"
   ]
  },
  {
   "cell_type": "code",
   "execution_count": 3,
   "id": "5de5fa84-7b8d-4609-94c1-7ff8be7a9454",
   "metadata": {},
   "outputs": [],
   "source": [
    "import pandas as pd\n",
    "import numpy as np\n",
    "import matplotlib.pyplot as plt\n",
    "import seaborn as sns"
   ]
  },
  {
   "cell_type": "markdown",
   "id": "6cbcc6df-ef64-4d50-8934-0e7b652b35fe",
   "metadata": {},
   "source": [
    "# Reading the Data"
   ]
  },
  {
   "cell_type": "code",
   "execution_count": 4,
   "id": "46659338-9dec-4610-b0b7-bd3b8a9bfd9c",
   "metadata": {},
   "outputs": [],
   "source": [
    "df_stock = pd.read_csv(r'data/sp500.csv')\n",
    "df_bitcoin = pd.read_csv(r'data/bitcoin-usd.csv')\n",
    "df_gold_inf = pd.read_csv(r'data/monthly_data.csv')"
   ]
  },
  {
   "cell_type": "code",
   "execution_count": 5,
   "id": "efdb116c-3f01-4ff1-91a8-3c2557f0f0a3",
   "metadata": {},
   "outputs": [
    {
     "data": {
      "text/html": [
       "<div>\n",
       "<style scoped>\n",
       "    .dataframe tbody tr th:only-of-type {\n",
       "        vertical-align: middle;\n",
       "    }\n",
       "\n",
       "    .dataframe tbody tr th {\n",
       "        vertical-align: top;\n",
       "    }\n",
       "\n",
       "    .dataframe thead th {\n",
       "        text-align: right;\n",
       "    }\n",
       "</style>\n",
       "<table border=\"1\" class=\"dataframe\">\n",
       "  <thead>\n",
       "    <tr style=\"text-align: right;\">\n",
       "      <th></th>\n",
       "      <th>date</th>\n",
       "      <th>open</th>\n",
       "      <th>high</th>\n",
       "      <th>low</th>\n",
       "      <th>close</th>\n",
       "      <th>volume</th>\n",
       "    </tr>\n",
       "  </thead>\n",
       "  <tbody>\n",
       "    <tr>\n",
       "      <th>0</th>\n",
       "      <td>2014-09-17</td>\n",
       "      <td>1999.300049</td>\n",
       "      <td>2010.739990</td>\n",
       "      <td>1993.290039</td>\n",
       "      <td>2001.569946</td>\n",
       "      <td>3209420000</td>\n",
       "    </tr>\n",
       "    <tr>\n",
       "      <th>1</th>\n",
       "      <td>2014-09-18</td>\n",
       "      <td>2003.069946</td>\n",
       "      <td>2012.339966</td>\n",
       "      <td>2003.069946</td>\n",
       "      <td>2011.359985</td>\n",
       "      <td>3235340000</td>\n",
       "    </tr>\n",
       "    <tr>\n",
       "      <th>2</th>\n",
       "      <td>2014-09-19</td>\n",
       "      <td>2012.739990</td>\n",
       "      <td>2019.260010</td>\n",
       "      <td>2006.589966</td>\n",
       "      <td>2010.400024</td>\n",
       "      <td>4880220000</td>\n",
       "    </tr>\n",
       "    <tr>\n",
       "      <th>3</th>\n",
       "      <td>2014-09-22</td>\n",
       "      <td>2009.079956</td>\n",
       "      <td>2009.079956</td>\n",
       "      <td>1991.010010</td>\n",
       "      <td>1994.290039</td>\n",
       "      <td>3349670000</td>\n",
       "    </tr>\n",
       "    <tr>\n",
       "      <th>4</th>\n",
       "      <td>2014-09-23</td>\n",
       "      <td>1992.780029</td>\n",
       "      <td>1995.410034</td>\n",
       "      <td>1982.770020</td>\n",
       "      <td>1982.770020</td>\n",
       "      <td>3279350000</td>\n",
       "    </tr>\n",
       "  </tbody>\n",
       "</table>\n",
       "</div>"
      ],
      "text/plain": [
       "         date         open         high          low        close      volume\n",
       "0  2014-09-17  1999.300049  2010.739990  1993.290039  2001.569946  3209420000\n",
       "1  2014-09-18  2003.069946  2012.339966  2003.069946  2011.359985  3235340000\n",
       "2  2014-09-19  2012.739990  2019.260010  2006.589966  2010.400024  4880220000\n",
       "3  2014-09-22  2009.079956  2009.079956  1991.010010  1994.290039  3349670000\n",
       "4  2014-09-23  1992.780029  1995.410034  1982.770020  1982.770020  3279350000"
      ]
     },
     "metadata": {},
     "output_type": "display_data"
    },
    {
     "data": {
      "text/html": [
       "<div>\n",
       "<style scoped>\n",
       "    .dataframe tbody tr th:only-of-type {\n",
       "        vertical-align: middle;\n",
       "    }\n",
       "\n",
       "    .dataframe tbody tr th {\n",
       "        vertical-align: top;\n",
       "    }\n",
       "\n",
       "    .dataframe thead th {\n",
       "        text-align: right;\n",
       "    }\n",
       "</style>\n",
       "<table border=\"1\" class=\"dataframe\">\n",
       "  <thead>\n",
       "    <tr style=\"text-align: right;\">\n",
       "      <th></th>\n",
       "      <th>date</th>\n",
       "      <th>open</th>\n",
       "      <th>high</th>\n",
       "      <th>low</th>\n",
       "      <th>close</th>\n",
       "      <th>volume</th>\n",
       "    </tr>\n",
       "  </thead>\n",
       "  <tbody>\n",
       "    <tr>\n",
       "      <th>0</th>\n",
       "      <td>2014-09-17</td>\n",
       "      <td>465.864014</td>\n",
       "      <td>468.174011</td>\n",
       "      <td>452.421997</td>\n",
       "      <td>457.334015</td>\n",
       "      <td>21056800.0</td>\n",
       "    </tr>\n",
       "    <tr>\n",
       "      <th>1</th>\n",
       "      <td>2014-09-18</td>\n",
       "      <td>456.859985</td>\n",
       "      <td>456.859985</td>\n",
       "      <td>413.104004</td>\n",
       "      <td>424.440002</td>\n",
       "      <td>34483200.0</td>\n",
       "    </tr>\n",
       "    <tr>\n",
       "      <th>2</th>\n",
       "      <td>2014-09-19</td>\n",
       "      <td>424.102997</td>\n",
       "      <td>427.834991</td>\n",
       "      <td>384.532013</td>\n",
       "      <td>394.795990</td>\n",
       "      <td>37919700.0</td>\n",
       "    </tr>\n",
       "    <tr>\n",
       "      <th>3</th>\n",
       "      <td>2014-09-20</td>\n",
       "      <td>394.673004</td>\n",
       "      <td>423.295990</td>\n",
       "      <td>389.882996</td>\n",
       "      <td>408.903992</td>\n",
       "      <td>36863600.0</td>\n",
       "    </tr>\n",
       "    <tr>\n",
       "      <th>4</th>\n",
       "      <td>2014-09-21</td>\n",
       "      <td>408.084991</td>\n",
       "      <td>412.425995</td>\n",
       "      <td>393.181000</td>\n",
       "      <td>398.821014</td>\n",
       "      <td>26580100.0</td>\n",
       "    </tr>\n",
       "  </tbody>\n",
       "</table>\n",
       "</div>"
      ],
      "text/plain": [
       "         date        open        high         low       close      volume\n",
       "0  2014-09-17  465.864014  468.174011  452.421997  457.334015  21056800.0\n",
       "1  2014-09-18  456.859985  456.859985  413.104004  424.440002  34483200.0\n",
       "2  2014-09-19  424.102997  427.834991  384.532013  394.795990  37919700.0\n",
       "3  2014-09-20  394.673004  423.295990  389.882996  408.903992  36863600.0\n",
       "4  2014-09-21  408.084991  412.425995  393.181000  398.821014  26580100.0"
      ]
     },
     "metadata": {},
     "output_type": "display_data"
    },
    {
     "data": {
      "text/html": [
       "<div>\n",
       "<style scoped>\n",
       "    .dataframe tbody tr th:only-of-type {\n",
       "        vertical-align: middle;\n",
       "    }\n",
       "\n",
       "    .dataframe tbody tr th {\n",
       "        vertical-align: top;\n",
       "    }\n",
       "\n",
       "    .dataframe thead th {\n",
       "        text-align: right;\n",
       "    }\n",
       "</style>\n",
       "<table border=\"1\" class=\"dataframe\">\n",
       "  <thead>\n",
       "    <tr style=\"text-align: right;\">\n",
       "      <th></th>\n",
       "      <th>date</th>\n",
       "      <th>gold_usd</th>\n",
       "      <th>cpi_us</th>\n",
       "    </tr>\n",
       "  </thead>\n",
       "  <tbody>\n",
       "    <tr>\n",
       "      <th>0</th>\n",
       "      <td>2014-09-01</td>\n",
       "      <td>1241.330</td>\n",
       "      <td>237.852</td>\n",
       "    </tr>\n",
       "    <tr>\n",
       "      <th>1</th>\n",
       "      <td>2014-10-01</td>\n",
       "      <td>1223.565</td>\n",
       "      <td>238.031</td>\n",
       "    </tr>\n",
       "    <tr>\n",
       "      <th>2</th>\n",
       "      <td>2014-11-01</td>\n",
       "      <td>1176.413</td>\n",
       "      <td>237.433</td>\n",
       "    </tr>\n",
       "    <tr>\n",
       "      <th>3</th>\n",
       "      <td>2014-12-01</td>\n",
       "      <td>1200.440</td>\n",
       "      <td>236.151</td>\n",
       "    </tr>\n",
       "    <tr>\n",
       "      <th>4</th>\n",
       "      <td>2015-01-01</td>\n",
       "      <td>1249.333</td>\n",
       "      <td>234.812</td>\n",
       "    </tr>\n",
       "  </tbody>\n",
       "</table>\n",
       "</div>"
      ],
      "text/plain": [
       "         date  gold_usd   cpi_us\n",
       "0  2014-09-01  1241.330  237.852\n",
       "1  2014-10-01  1223.565  238.031\n",
       "2  2014-11-01  1176.413  237.433\n",
       "3  2014-12-01  1200.440  236.151\n",
       "4  2015-01-01  1249.333  234.812"
      ]
     },
     "metadata": {},
     "output_type": "display_data"
    }
   ],
   "source": [
    "display(df_stock.head())\n",
    "display(df_bitcoin.head())\n",
    "display(df_gold_inf.head())"
   ]
  },
  {
   "cell_type": "markdown",
   "id": "5ef4de20-1232-4fb6-bb77-f0768c8ac2c9",
   "metadata": {},
   "source": [
    "# Understanding the data"
   ]
  },
  {
   "cell_type": "markdown",
   "id": "f8404e1a-d7da-4511-a3d7-8e885e907c3b",
   "metadata": {},
   "source": [
    "## stocks data -----> df_stock"
   ]
  },
  {
   "cell_type": "code",
   "execution_count": 6,
   "id": "5bad9320-ad2b-441d-9288-bc0102f8196a",
   "metadata": {},
   "outputs": [
    {
     "name": "stdout",
     "output_type": "stream",
     "text": [
      "<class 'pandas.core.frame.DataFrame'>\n",
      "RangeIndex: 1805 entries, 0 to 1804\n",
      "Data columns (total 6 columns):\n",
      " #   Column  Non-Null Count  Dtype  \n",
      "---  ------  --------------  -----  \n",
      " 0   date    1805 non-null   object \n",
      " 1   open    1805 non-null   float64\n",
      " 2   high    1805 non-null   float64\n",
      " 3   low     1805 non-null   float64\n",
      " 4   close   1805 non-null   float64\n",
      " 5   volume  1805 non-null   int64  \n",
      "dtypes: float64(4), int64(1), object(1)\n",
      "memory usage: 84.7+ KB\n"
     ]
    },
    {
     "data": {
      "text/plain": [
       "None"
      ]
     },
     "metadata": {},
     "output_type": "display_data"
    },
    {
     "data": {
      "text/plain": [
       "date      0\n",
       "open      0\n",
       "high      0\n",
       "low       0\n",
       "close     0\n",
       "volume    0\n",
       "dtype: int64"
      ]
     },
     "metadata": {},
     "output_type": "display_data"
    },
    {
     "data": {
      "text/html": [
       "<div>\n",
       "<style scoped>\n",
       "    .dataframe tbody tr th:only-of-type {\n",
       "        vertical-align: middle;\n",
       "    }\n",
       "\n",
       "    .dataframe tbody tr th {\n",
       "        vertical-align: top;\n",
       "    }\n",
       "\n",
       "    .dataframe thead th {\n",
       "        text-align: right;\n",
       "    }\n",
       "</style>\n",
       "<table border=\"1\" class=\"dataframe\">\n",
       "  <thead>\n",
       "    <tr style=\"text-align: right;\">\n",
       "      <th></th>\n",
       "      <th>open</th>\n",
       "      <th>high</th>\n",
       "      <th>low</th>\n",
       "      <th>close</th>\n",
       "      <th>volume</th>\n",
       "    </tr>\n",
       "  </thead>\n",
       "  <tbody>\n",
       "    <tr>\n",
       "      <th>count</th>\n",
       "      <td>1805.000000</td>\n",
       "      <td>1805.000000</td>\n",
       "      <td>1805.000000</td>\n",
       "      <td>1805.000000</td>\n",
       "      <td>1.805000e+03</td>\n",
       "    </tr>\n",
       "    <tr>\n",
       "      <th>mean</th>\n",
       "      <td>2755.938758</td>\n",
       "      <td>2769.524277</td>\n",
       "      <td>2741.245103</td>\n",
       "      <td>2756.455533</td>\n",
       "      <td>3.844502e+09</td>\n",
       "    </tr>\n",
       "    <tr>\n",
       "      <th>std</th>\n",
       "      <td>698.212835</td>\n",
       "      <td>701.268104</td>\n",
       "      <td>695.674679</td>\n",
       "      <td>698.850564</td>\n",
       "      <td>9.781460e+08</td>\n",
       "    </tr>\n",
       "    <tr>\n",
       "      <th>min</th>\n",
       "      <td>1833.400024</td>\n",
       "      <td>1847.000000</td>\n",
       "      <td>1810.099976</td>\n",
       "      <td>1829.079956</td>\n",
       "      <td>1.296540e+09</td>\n",
       "    </tr>\n",
       "    <tr>\n",
       "      <th>25%</th>\n",
       "      <td>2123.159912</td>\n",
       "      <td>2129.870117</td>\n",
       "      <td>2114.719971</td>\n",
       "      <td>2124.290039</td>\n",
       "      <td>3.254950e+09</td>\n",
       "    </tr>\n",
       "    <tr>\n",
       "      <th>50%</th>\n",
       "      <td>2664.439941</td>\n",
       "      <td>2682.860107</td>\n",
       "      <td>2648.870117</td>\n",
       "      <td>2663.989990</td>\n",
       "      <td>3.623320e+09</td>\n",
       "    </tr>\n",
       "    <tr>\n",
       "      <th>75%</th>\n",
       "      <td>3045.750000</td>\n",
       "      <td>3068.669922</td>\n",
       "      <td>3012.590088</td>\n",
       "      <td>3039.419922</td>\n",
       "      <td>4.154240e+09</td>\n",
       "    </tr>\n",
       "    <tr>\n",
       "      <th>max</th>\n",
       "      <td>4707.250000</td>\n",
       "      <td>4718.500000</td>\n",
       "      <td>4694.390137</td>\n",
       "      <td>4701.700195</td>\n",
       "      <td>9.878040e+09</td>\n",
       "    </tr>\n",
       "  </tbody>\n",
       "</table>\n",
       "</div>"
      ],
      "text/plain": [
       "              open         high          low        close        volume\n",
       "count  1805.000000  1805.000000  1805.000000  1805.000000  1.805000e+03\n",
       "mean   2755.938758  2769.524277  2741.245103  2756.455533  3.844502e+09\n",
       "std     698.212835   701.268104   695.674679   698.850564  9.781460e+08\n",
       "min    1833.400024  1847.000000  1810.099976  1829.079956  1.296540e+09\n",
       "25%    2123.159912  2129.870117  2114.719971  2124.290039  3.254950e+09\n",
       "50%    2664.439941  2682.860107  2648.870117  2663.989990  3.623320e+09\n",
       "75%    3045.750000  3068.669922  3012.590088  3039.419922  4.154240e+09\n",
       "max    4707.250000  4718.500000  4694.390137  4701.700195  9.878040e+09"
      ]
     },
     "metadata": {},
     "output_type": "display_data"
    }
   ],
   "source": [
    "display(df_stock.info())\n",
    "display(df_stock.isna().sum())\n",
    "display(df_stock.describe())"
   ]
  },
  {
   "cell_type": "markdown",
   "id": "7ef9aa0f-8287-4fa8-9cd5-d52843b85519",
   "metadata": {},
   "source": [
    "## bitcoin data -----> df_bitcon"
   ]
  },
  {
   "cell_type": "code",
   "execution_count": 7,
   "id": "3af72143-ebdc-43b7-a310-ef571c82d1fc",
   "metadata": {},
   "outputs": [
    {
     "name": "stdout",
     "output_type": "stream",
     "text": [
      "<class 'pandas.core.frame.DataFrame'>\n",
      "RangeIndex: 2619 entries, 0 to 2618\n",
      "Data columns (total 6 columns):\n",
      " #   Column  Non-Null Count  Dtype  \n",
      "---  ------  --------------  -----  \n",
      " 0   date    2619 non-null   object \n",
      " 1   open    2615 non-null   float64\n",
      " 2   high    2615 non-null   float64\n",
      " 3   low     2615 non-null   float64\n",
      " 4   close   2615 non-null   float64\n",
      " 5   volume  2615 non-null   float64\n",
      "dtypes: float64(5), object(1)\n",
      "memory usage: 122.9+ KB\n"
     ]
    },
    {
     "data": {
      "text/plain": [
       "None"
      ]
     },
     "metadata": {},
     "output_type": "display_data"
    },
    {
     "data": {
      "text/plain": [
       "date      0\n",
       "open      4\n",
       "high      4\n",
       "low       4\n",
       "close     4\n",
       "volume    4\n",
       "dtype: int64"
      ]
     },
     "metadata": {},
     "output_type": "display_data"
    },
    {
     "data": {
      "text/html": [
       "<div>\n",
       "<style scoped>\n",
       "    .dataframe tbody tr th:only-of-type {\n",
       "        vertical-align: middle;\n",
       "    }\n",
       "\n",
       "    .dataframe tbody tr th {\n",
       "        vertical-align: top;\n",
       "    }\n",
       "\n",
       "    .dataframe thead th {\n",
       "        text-align: right;\n",
       "    }\n",
       "</style>\n",
       "<table border=\"1\" class=\"dataframe\">\n",
       "  <thead>\n",
       "    <tr style=\"text-align: right;\">\n",
       "      <th></th>\n",
       "      <th>open</th>\n",
       "      <th>high</th>\n",
       "      <th>low</th>\n",
       "      <th>close</th>\n",
       "      <th>volume</th>\n",
       "    </tr>\n",
       "  </thead>\n",
       "  <tbody>\n",
       "    <tr>\n",
       "      <th>count</th>\n",
       "      <td>2615.000000</td>\n",
       "      <td>2615.000000</td>\n",
       "      <td>2615.000000</td>\n",
       "      <td>2615.000000</td>\n",
       "      <td>2.615000e+03</td>\n",
       "    </tr>\n",
       "    <tr>\n",
       "      <th>mean</th>\n",
       "      <td>10051.643066</td>\n",
       "      <td>10334.482966</td>\n",
       "      <td>9750.736512</td>\n",
       "      <td>10073.814423</td>\n",
       "      <td>1.400155e+10</td>\n",
       "    </tr>\n",
       "    <tr>\n",
       "      <th>std</th>\n",
       "      <td>14892.430109</td>\n",
       "      <td>15326.320248</td>\n",
       "      <td>14422.269302</td>\n",
       "      <td>14923.069664</td>\n",
       "      <td>1.993158e+10</td>\n",
       "    </tr>\n",
       "    <tr>\n",
       "      <th>min</th>\n",
       "      <td>176.897003</td>\n",
       "      <td>211.731003</td>\n",
       "      <td>171.509995</td>\n",
       "      <td>178.102997</td>\n",
       "      <td>5.914570e+06</td>\n",
       "    </tr>\n",
       "    <tr>\n",
       "      <th>25%</th>\n",
       "      <td>582.071015</td>\n",
       "      <td>588.960998</td>\n",
       "      <td>575.311981</td>\n",
       "      <td>582.555999</td>\n",
       "      <td>7.489110e+07</td>\n",
       "    </tr>\n",
       "    <tr>\n",
       "      <th>50%</th>\n",
       "      <td>5745.599121</td>\n",
       "      <td>5865.881836</td>\n",
       "      <td>5544.089844</td>\n",
       "      <td>5750.799805</td>\n",
       "      <td>4.679500e+09</td>\n",
       "    </tr>\n",
       "    <tr>\n",
       "      <th>75%</th>\n",
       "      <td>9866.986328</td>\n",
       "      <td>10136.996094</td>\n",
       "      <td>9642.615235</td>\n",
       "      <td>9870.199219</td>\n",
       "      <td>2.287606e+10</td>\n",
       "    </tr>\n",
       "    <tr>\n",
       "      <th>max</th>\n",
       "      <td>67549.734375</td>\n",
       "      <td>68789.625000</td>\n",
       "      <td>66382.062500</td>\n",
       "      <td>67566.828125</td>\n",
       "      <td>3.509679e+11</td>\n",
       "    </tr>\n",
       "  </tbody>\n",
       "</table>\n",
       "</div>"
      ],
      "text/plain": [
       "               open          high           low         close        volume\n",
       "count   2615.000000   2615.000000   2615.000000   2615.000000  2.615000e+03\n",
       "mean   10051.643066  10334.482966   9750.736512  10073.814423  1.400155e+10\n",
       "std    14892.430109  15326.320248  14422.269302  14923.069664  1.993158e+10\n",
       "min      176.897003    211.731003    171.509995    178.102997  5.914570e+06\n",
       "25%      582.071015    588.960998    575.311981    582.555999  7.489110e+07\n",
       "50%     5745.599121   5865.881836   5544.089844   5750.799805  4.679500e+09\n",
       "75%     9866.986328  10136.996094   9642.615235   9870.199219  2.287606e+10\n",
       "max    67549.734375  68789.625000  66382.062500  67566.828125  3.509679e+11"
      ]
     },
     "metadata": {},
     "output_type": "display_data"
    }
   ],
   "source": [
    "display(df_bitcoin.info())\n",
    "display(df_bitcoin.isna().sum())\n",
    "display(df_bitcoin.describe())"
   ]
  },
  {
   "cell_type": "code",
   "execution_count": 26,
   "id": "d9a9322a-57ef-4773-878a-ba2c05e61a11",
   "metadata": {},
   "outputs": [
    {
     "data": {
      "text/html": [
       "<div>\n",
       "<style scoped>\n",
       "    .dataframe tbody tr th:only-of-type {\n",
       "        vertical-align: middle;\n",
       "    }\n",
       "\n",
       "    .dataframe tbody tr th {\n",
       "        vertical-align: top;\n",
       "    }\n",
       "\n",
       "    .dataframe thead th {\n",
       "        text-align: right;\n",
       "    }\n",
       "</style>\n",
       "<table border=\"1\" class=\"dataframe\">\n",
       "  <thead>\n",
       "    <tr style=\"text-align: right;\">\n",
       "      <th></th>\n",
       "      <th>date</th>\n",
       "      <th>open</th>\n",
       "      <th>high</th>\n",
       "      <th>low</th>\n",
       "      <th>close</th>\n",
       "      <th>volume</th>\n",
       "    </tr>\n",
       "  </thead>\n",
       "  <tbody>\n",
       "    <tr>\n",
       "      <th>2039</th>\n",
       "      <td>2020-04-17</td>\n",
       "      <td>NaN</td>\n",
       "      <td>NaN</td>\n",
       "      <td>NaN</td>\n",
       "      <td>NaN</td>\n",
       "      <td>NaN</td>\n",
       "    </tr>\n",
       "    <tr>\n",
       "      <th>2214</th>\n",
       "      <td>2020-10-09</td>\n",
       "      <td>NaN</td>\n",
       "      <td>NaN</td>\n",
       "      <td>NaN</td>\n",
       "      <td>NaN</td>\n",
       "      <td>NaN</td>\n",
       "    </tr>\n",
       "    <tr>\n",
       "      <th>2217</th>\n",
       "      <td>2020-10-12</td>\n",
       "      <td>NaN</td>\n",
       "      <td>NaN</td>\n",
       "      <td>NaN</td>\n",
       "      <td>NaN</td>\n",
       "      <td>NaN</td>\n",
       "    </tr>\n",
       "    <tr>\n",
       "      <th>2218</th>\n",
       "      <td>2020-10-13</td>\n",
       "      <td>NaN</td>\n",
       "      <td>NaN</td>\n",
       "      <td>NaN</td>\n",
       "      <td>NaN</td>\n",
       "      <td>NaN</td>\n",
       "    </tr>\n",
       "  </tbody>\n",
       "</table>\n",
       "</div>"
      ],
      "text/plain": [
       "            date  open  high  low  close  volume\n",
       "2039  2020-04-17   NaN   NaN  NaN    NaN     NaN\n",
       "2214  2020-10-09   NaN   NaN  NaN    NaN     NaN\n",
       "2217  2020-10-12   NaN   NaN  NaN    NaN     NaN\n",
       "2218  2020-10-13   NaN   NaN  NaN    NaN     NaN"
      ]
     },
     "metadata": {},
     "output_type": "display_data"
    },
    {
     "data": {
      "text/plain": [
       "['2020-04-17', '2020-10-09', '2020-10-12', '2020-10-13']"
      ]
     },
     "metadata": {},
     "output_type": "display_data"
    }
   ],
   "source": [
    "# df_bitcoin[df_bitcoin.isnull().any()]\n",
    "display(df_bitcoin[df_bitcoin['open'].isna()])\n",
    "dt_bticoin_na = list(df_bitcoin[df_bitcoin['open'].isna()]['date'])\n",
    "display(dt_bticoin_na)"
   ]
  },
  {
   "cell_type": "markdown",
   "id": "f6a385f3-2f5f-4a50-b3e2-e26f774b5569",
   "metadata": {},
   "source": [
    " ['2020-04-17', '2020-10-09', '2020-10-12', '2020-10-13'] in the give date there is not such drastict thing happended for the Bitcoin data to be missing, hence we can safely use some technique to fill the data"
   ]
  },
  {
   "cell_type": "markdown",
   "id": "b96509fa-4545-472a-a89c-dde8e3638375",
   "metadata": {},
   "source": [
    "## gold and inf data -----> df_gold_inf"
   ]
  },
  {
   "cell_type": "code",
   "execution_count": 27,
   "id": "bc19cca8-d9e5-4beb-a55a-d0ab3183b608",
   "metadata": {},
   "outputs": [
    {
     "name": "stdout",
     "output_type": "stream",
     "text": [
      "<class 'pandas.core.frame.DataFrame'>\n",
      "RangeIndex: 87 entries, 0 to 86\n",
      "Data columns (total 3 columns):\n",
      " #   Column    Non-Null Count  Dtype  \n",
      "---  ------    --------------  -----  \n",
      " 0   date      87 non-null     object \n",
      " 1   gold_usd  87 non-null     float64\n",
      " 2   cpi_us    87 non-null     float64\n",
      "dtypes: float64(2), object(1)\n",
      "memory usage: 2.2+ KB\n"
     ]
    },
    {
     "data": {
      "text/plain": [
       "None"
      ]
     },
     "metadata": {},
     "output_type": "display_data"
    },
    {
     "data": {
      "text/plain": [
       "date        0\n",
       "gold_usd    0\n",
       "cpi_us      0\n",
       "dtype: int64"
      ]
     },
     "metadata": {},
     "output_type": "display_data"
    },
    {
     "data": {
      "text/html": [
       "<div>\n",
       "<style scoped>\n",
       "    .dataframe tbody tr th:only-of-type {\n",
       "        vertical-align: middle;\n",
       "    }\n",
       "\n",
       "    .dataframe tbody tr th {\n",
       "        vertical-align: top;\n",
       "    }\n",
       "\n",
       "    .dataframe thead th {\n",
       "        text-align: right;\n",
       "    }\n",
       "</style>\n",
       "<table border=\"1\" class=\"dataframe\">\n",
       "  <thead>\n",
       "    <tr style=\"text-align: right;\">\n",
       "      <th></th>\n",
       "      <th>gold_usd</th>\n",
       "      <th>cpi_us</th>\n",
       "    </tr>\n",
       "  </thead>\n",
       "  <tbody>\n",
       "    <tr>\n",
       "      <th>count</th>\n",
       "      <td>87.000000</td>\n",
       "      <td>87.000000</td>\n",
       "    </tr>\n",
       "    <tr>\n",
       "      <th>mean</th>\n",
       "      <td>1403.186678</td>\n",
       "      <td>249.790759</td>\n",
       "    </tr>\n",
       "    <tr>\n",
       "      <th>std</th>\n",
       "      <td>257.985374</td>\n",
       "      <td>10.733951</td>\n",
       "    </tr>\n",
       "    <tr>\n",
       "      <th>min</th>\n",
       "      <td>1068.317000</td>\n",
       "      <td>233.707000</td>\n",
       "    </tr>\n",
       "    <tr>\n",
       "      <th>25%</th>\n",
       "      <td>1231.081500</td>\n",
       "      <td>240.428500</td>\n",
       "    </tr>\n",
       "    <tr>\n",
       "      <th>50%</th>\n",
       "      <td>1283.189000</td>\n",
       "      <td>249.554000</td>\n",
       "    </tr>\n",
       "    <tr>\n",
       "      <th>75%</th>\n",
       "      <td>1577.216000</td>\n",
       "      <td>257.091000</td>\n",
       "    </tr>\n",
       "    <tr>\n",
       "      <th>max</th>\n",
       "      <td>2041.700000</td>\n",
       "      <td>276.589000</td>\n",
       "    </tr>\n",
       "  </tbody>\n",
       "</table>\n",
       "</div>"
      ],
      "text/plain": [
       "          gold_usd      cpi_us\n",
       "count    87.000000   87.000000\n",
       "mean   1403.186678  249.790759\n",
       "std     257.985374   10.733951\n",
       "min    1068.317000  233.707000\n",
       "25%    1231.081500  240.428500\n",
       "50%    1283.189000  249.554000\n",
       "75%    1577.216000  257.091000\n",
       "max    2041.700000  276.589000"
      ]
     },
     "metadata": {},
     "output_type": "display_data"
    }
   ],
   "source": [
    "display(df_gold_inf.info())\n",
    "display(df_gold_inf.isna().sum())\n",
    "display(df_gold_inf.describe())"
   ]
  },
  {
   "cell_type": "markdown",
   "id": "598d466e-0e09-49cc-9e20-d96a7e23189e",
   "metadata": {},
   "source": [
    "# Ploting here"
   ]
  },
  {
   "cell_type": "code",
   "execution_count": null,
   "id": "945382fa-9a77-4249-a56c-90c9a4f1409c",
   "metadata": {},
   "outputs": [],
   "source": [
    "df_stocks"
   ]
  }
 ],
 "metadata": {
  "kernelspec": {
   "display_name": "Python 3 (ipykernel)",
   "language": "python",
   "name": "python3"
  },
  "language_info": {
   "codemirror_mode": {
    "name": "ipython",
    "version": 3
   },
   "file_extension": ".py",
   "mimetype": "text/x-python",
   "name": "python",
   "nbconvert_exporter": "python",
   "pygments_lexer": "ipython3",
   "version": "3.8.10"
  }
 },
 "nbformat": 4,
 "nbformat_minor": 5
}
